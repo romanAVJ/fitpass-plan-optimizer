{
 "cells": [
  {
   "cell_type": "code",
   "execution_count": 24,
   "metadata": {},
   "outputs": [
    {
     "data": {
      "text/html": [
       "\n",
       "        <iframe\n",
       "            width=\"100%\"\n",
       "            height=\"650\"\n",
       "            src=\"http://127.0.0.1:8050/\"\n",
       "            frameborder=\"0\"\n",
       "            allowfullscreen\n",
       "            \n",
       "        ></iframe>\n",
       "        "
      ],
      "text/plain": [
       "<IPython.lib.display.IFrame at 0x168e35bd0>"
      ]
     },
     "metadata": {},
     "output_type": "display_data"
    }
   ],
   "source": [
    "import dash\n",
    "from dash import html, dcc, Output, Input, State\n",
    "import dash_leaflet as dl\n",
    "import plotly.express as px\n",
    "import pandas as pd\n",
    "\n",
    "# Datos dummy\n",
    "data_dummy = pd.DataFrame({\n",
    "    'Ciudad': ['CDMX', 'CDMX', 'CDMX', 'CDMX', 'CDMX'],\n",
    "    'Colonia': ['Coyoacán', 'Coyoacán', 'Condesa', 'Polanco', 'Centro'],\n",
    "    'Nombre': ['Studio A', 'Studio B', 'Studio C', 'Studio D', 'Studio E'],\n",
    "    'Tipo de Estudio': ['Yoga', 'Crossfit', 'Pilates', 'Gimnasio', 'Danza'],\n",
    "    'Fit Pass Pro': ['Sí', 'No', 'Sí', 'No', 'Sí'],\n",
    "    'Latitud': [19.4326, 19.4312, 19.4298, 19.4284, 19.4270],\n",
    "    'Longitud': [-99.1332, -99.1318, -99.1304, -99.1290, -99.1276],\n",
    "    'Cantidad': [10, 5, 8, 12, 7] \n",
    "})\n",
    "\n",
    "# Gráfico de barras\n",
    "fig = px.bar(data_dummy, x='Tipo de Estudio', y='Cantidad', color='Fit Pass Pro', title='Número de Estudios por Tipo')\n",
    "\n",
    "# Inicializar la aplicación Dash\n",
    "app = dash.Dash(__name__)\n",
    "\n",
    "# Layout de la aplicación\n",
    "app.layout = html.Div([\n",
    "    html.H1(\"Dashboard de Fitpass\", style={'color': '#007bff'}),\n",
    "    dcc.Dropdown(id='dropdown-ciudad', options=[{'label': c, 'value': c} for c in data_dummy['Ciudad'].unique()], value='CDMX'),\n",
    "    dcc.Dropdown(id='dropdown-colonia', value='Coyoacán'),\n",
    "    html.Button('Buscar', id='btn-buscar', style={'background-color': '#28a745', 'color': 'white'}),\n",
    "    html.Div(id='lista-estudios', style={'padding': '20px'}),\n",
    "    dl.Map(center=[19.4326, -99.1332], zoom=12, id='map', style={'width': '1000px', 'height': '500px'}),\n",
    "    dcc.Graph(figure=fig)\n",
    "])\n",
    "\n",
    "# Callback para actualizar la lista de estudios y el mapa\n",
    "@app.callback(\n",
    "    [Output('lista-estudios', 'children'), Output('map', 'children')],\n",
    "    [Input('btn-buscar', 'n_clicks')],\n",
    "    [State('dropdown-ciudad', 'value'), State('dropdown-colonia', 'value')]\n",
    ")\n",
    "def actualizar_lista_y_mapa(n_clicks, ciudad, colonia):\n",
    "    if n_clicks is None:\n",
    "        return [html.P('Seleccione una ciudad y colonia para buscar.'), [dl.TileLayer()]]\n",
    "\n",
    "    # Aquí debemos agregar la lógica para actualizar la lista y el mapa\n",
    "    # ...\n",
    "\n",
    "# Corre app de Dash\n",
    "if __name__ == '__main__':\n",
    "    app.run_server(debug=True)\n",
    "\n"
   ]
  }
 ],
 "metadata": {
  "kernelspec": {
   "display_name": "Python 3",
   "language": "python",
   "name": "python3"
  },
  "language_info": {
   "codemirror_mode": {
    "name": "ipython",
    "version": 3
   },
   "file_extension": ".py",
   "mimetype": "text/x-python",
   "name": "python",
   "nbconvert_exporter": "python",
   "pygments_lexer": "ipython3",
   "version": "3.10.13"
  }
 },
 "nbformat": 4,
 "nbformat_minor": 2
}
