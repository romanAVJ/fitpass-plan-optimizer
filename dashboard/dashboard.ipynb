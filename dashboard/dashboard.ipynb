{
 "cells": [
  {
   "cell_type": "code",
   "execution_count": 1,
   "metadata": {},
   "outputs": [
    {
     "ename": "ImportError",
     "evalue": "cannot import name 'get_current_traceback' from 'werkzeug.debug.tbtools' (/Users/ravj/opt/anaconda3/envs/fitpass-env/lib/python3.9/site-packages/werkzeug/debug/tbtools.py)",
     "output_type": "error",
     "traceback": [
      "\u001b[0;31m---------------------------------------------------------------------------\u001b[0m",
      "\u001b[0;31mImportError\u001b[0m                               Traceback (most recent call last)",
      "\u001b[1;32m/Users/ravj/Documents/study/ITAM-MASTER/sem1/fitpass-plan-optimizer/dashboard/dashboard.ipynb Cell 1\u001b[0m line \u001b[0;36m1\n\u001b[0;32m----> <a href='vscode-notebook-cell:/Users/ravj/Documents/study/ITAM-MASTER/sem1/fitpass-plan-optimizer/dashboard/dashboard.ipynb#W0sZmlsZQ%3D%3D?line=0'>1</a>\u001b[0m \u001b[39mimport\u001b[39;00m \u001b[39mdash\u001b[39;00m\n\u001b[1;32m      <a href='vscode-notebook-cell:/Users/ravj/Documents/study/ITAM-MASTER/sem1/fitpass-plan-optimizer/dashboard/dashboard.ipynb#W0sZmlsZQ%3D%3D?line=1'>2</a>\u001b[0m \u001b[39mfrom\u001b[39;00m \u001b[39mdash\u001b[39;00m \u001b[39mimport\u001b[39;00m html, dcc, Output, Input, State\n\u001b[1;32m      <a href='vscode-notebook-cell:/Users/ravj/Documents/study/ITAM-MASTER/sem1/fitpass-plan-optimizer/dashboard/dashboard.ipynb#W0sZmlsZQ%3D%3D?line=2'>3</a>\u001b[0m \u001b[39mimport\u001b[39;00m \u001b[39mdash_leaflet\u001b[39;00m \u001b[39mas\u001b[39;00m \u001b[39mdl\u001b[39;00m\n",
      "File \u001b[0;32m~/opt/anaconda3/envs/fitpass-env/lib/python3.9/site-packages/dash/__init__.py:5\u001b[0m\n\u001b[1;32m      1\u001b[0m \u001b[39m# pylint: disable=C0413\u001b[39;00m\n\u001b[1;32m      2\u001b[0m \u001b[39m# __plotly_dash is for the \"make sure you don't have a dash.py\" check\u001b[39;00m\n\u001b[1;32m      3\u001b[0m \u001b[39m# must come before any other imports.\u001b[39;00m\n\u001b[1;32m      4\u001b[0m __plotly_dash \u001b[39m=\u001b[39m \u001b[39mTrue\u001b[39;00m\n\u001b[0;32m----> 5\u001b[0m \u001b[39mfrom\u001b[39;00m \u001b[39m.\u001b[39;00m\u001b[39mdash\u001b[39;00m \u001b[39mimport\u001b[39;00m Dash, no_update  \u001b[39m# noqa: F401,E402\u001b[39;00m\n\u001b[1;32m      6\u001b[0m \u001b[39mfrom\u001b[39;00m \u001b[39m.\u001b[39;00m\u001b[39mdependencies\u001b[39;00m \u001b[39mimport\u001b[39;00m (  \u001b[39m# noqa: F401,E402\u001b[39;00m\n\u001b[1;32m      7\u001b[0m     Input,  \u001b[39m# noqa: F401,E402\u001b[39;00m\n\u001b[1;32m      8\u001b[0m     Output,  \u001b[39m# noqa: F401,E402\u001b[39;00m\n\u001b[0;32m   (...)\u001b[0m\n\u001b[1;32m     13\u001b[0m     ALLSMALLER,  \u001b[39m# noqa: F401,E402\u001b[39;00m\n\u001b[1;32m     14\u001b[0m )  \u001b[39m# noqa: F401,E402\u001b[39;00m\n\u001b[1;32m     15\u001b[0m \u001b[39mfrom\u001b[39;00m \u001b[39m.\u001b[39;00m \u001b[39mimport\u001b[39;00m development  \u001b[39m# noqa: F401,E402\u001b[39;00m\n",
      "File \u001b[0;32m~/opt/anaconda3/envs/fitpass-env/lib/python3.9/site-packages/dash/dash.py:18\u001b[0m\n\u001b[1;32m     16\u001b[0m \u001b[39mimport\u001b[39;00m \u001b[39mflask\u001b[39;00m\n\u001b[1;32m     17\u001b[0m \u001b[39mfrom\u001b[39;00m \u001b[39mflask_compress\u001b[39;00m \u001b[39mimport\u001b[39;00m Compress\n\u001b[0;32m---> 18\u001b[0m \u001b[39mfrom\u001b[39;00m \u001b[39mwerkzeug\u001b[39;00m\u001b[39m.\u001b[39;00m\u001b[39mdebug\u001b[39;00m\u001b[39m.\u001b[39;00m\u001b[39mtbtools\u001b[39;00m \u001b[39mimport\u001b[39;00m get_current_traceback\n\u001b[1;32m     19\u001b[0m \u001b[39mfrom\u001b[39;00m \u001b[39mpkg_resources\u001b[39;00m \u001b[39mimport\u001b[39;00m get_distribution, parse_version\n\u001b[1;32m     20\u001b[0m \u001b[39mfrom\u001b[39;00m \u001b[39mdash\u001b[39;00m \u001b[39mimport\u001b[39;00m dcc\n",
      "\u001b[0;31mImportError\u001b[0m: cannot import name 'get_current_traceback' from 'werkzeug.debug.tbtools' (/Users/ravj/opt/anaconda3/envs/fitpass-env/lib/python3.9/site-packages/werkzeug/debug/tbtools.py)"
     ]
    }
   ],
   "source": [
    "import dash\n",
    "from dash import html, dcc, Output, Input, State\n",
    "import dash_leaflet as dl\n",
    "import plotly.express as px\n",
    "import pandas as pd\n",
    "\n",
    "# Datos dummy\n",
    "data_dummy = pd.DataFrame({\n",
    "    'Ciudad': ['CDMX', 'CDMX', 'CDMX', 'CDMX', 'CDMX'],\n",
    "    'Colonia': ['Coyoacán', 'Coyoacán', 'Condesa', 'Polanco', 'Centro'],\n",
    "    'Nombre': ['Studio A', 'Studio B', 'Studio C', 'Studio D', 'Studio E'],\n",
    "    'Tipo de Estudio': ['Yoga', 'Crossfit', 'Pilates', 'Gimnasio', 'Danza'],\n",
    "    'Fit Pass Pro': ['Sí', 'No', 'Sí', 'No', 'Sí'],\n",
    "    'Latitud': [19.4326, 19.4312, 19.4298, 19.4284, 19.4270],\n",
    "    'Longitud': [-99.1332, -99.1318, -99.1304, -99.1290, -99.1276],\n",
    "    'Cantidad': [10, 5, 8, 12, 7] \n",
    "})\n",
    "\n",
    "# Gráfico de barras\n",
    "fig = px.bar(data_dummy, x='Tipo de Estudio', y='Cantidad', color='Fit Pass Pro', title='Número de Estudios por Tipo')\n",
    "\n",
    "# Inicializar la aplicación Dash\n",
    "app = dash.Dash(__name__)\n",
    "\n",
    "# Layout de la aplicación\n",
    "app.layout = html.Div([\n",
    "    html.H1(\"Dashboard de Fitpass\", style={'color': '#007bff'}),\n",
    "    dcc.Dropdown(id='dropdown-ciudad', options=[{'label': c, 'value': c} for c in data_dummy['Ciudad'].unique()], value='CDMX'),\n",
    "    dcc.Dropdown(id='dropdown-colonia', value='Coyoacán'),\n",
    "    html.Button('Buscar', id='btn-buscar', style={'background-color': '#28a745', 'color': 'white'}),\n",
    "    html.Div(id='lista-estudios', style={'padding': '20px'}),\n",
    "    dl.Map(center=[19.4326, -99.1332], zoom=12, id='map', style={'width': '1000px', 'height': '500px'}),\n",
    "    dcc.Graph(figure=fig)\n",
    "])\n",
    "\n",
    "# Callback para actualizar la lista de estudios y el mapa\n",
    "@app.callback(\n",
    "    [Output('lista-estudios', 'children'), Output('map', 'children')],\n",
    "    [Input('btn-buscar', 'n_clicks')],\n",
    "    [State('dropdown-ciudad', 'value'), State('dropdown-colonia', 'value')]\n",
    ")\n",
    "def actualizar_lista_y_mapa(n_clicks, ciudad, colonia):\n",
    "    if n_clicks is None:\n",
    "        return [html.P('Seleccione una ciudad y colonia para buscar.'), [dl.TileLayer()]]\n",
    "\n",
    "    # Aquí debemos agregar la lógica para actualizar la lista y el mapa\n",
    "    # ...\n",
    "\n",
    "# Corre app de Dash\n",
    "if __name__ == '__main__':\n",
    "    app.run_server(debug=True)\n",
    "\n"
   ]
  },
  {
   "cell_type": "code",
   "execution_count": null,
   "metadata": {},
   "outputs": [],
   "source": []
  }
 ],
 "metadata": {
  "kernelspec": {
   "display_name": "Python 3",
   "language": "python",
   "name": "python3"
  },
  "language_info": {
   "codemirror_mode": {
    "name": "ipython",
    "version": 3
   },
   "file_extension": ".py",
   "mimetype": "text/x-python",
   "name": "python",
   "nbconvert_exporter": "python",
   "pygments_lexer": "ipython3",
   "version": "3.9.0"
  }
 },
 "nbformat": 4,
 "nbformat_minor": 2
}
